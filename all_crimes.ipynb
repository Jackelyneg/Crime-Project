{
 "cells": [
  {
   "cell_type": "code",
   "execution_count": 1,
   "metadata": {},
   "outputs": [],
   "source": [
    "import pandas as pd"
   ]
  },
  {
   "cell_type": "code",
   "execution_count": 2,
   "metadata": {},
   "outputs": [],
   "source": [
    "state_2014 = pd.read_csv(\"state_coord_2014.csv\")"
   ]
  },
  {
   "cell_type": "code",
   "execution_count": 4,
   "metadata": {},
   "outputs": [],
   "source": [
    "state_2015 = pd.read_csv(\"state_coord_2015.csv\")"
   ]
  },
  {
   "cell_type": "code",
   "execution_count": 5,
   "metadata": {},
   "outputs": [],
   "source": [
    "state_2016 = pd.read_csv(\"state_coord_2016.csv\")"
   ]
  },
  {
   "cell_type": "code",
   "execution_count": 6,
   "metadata": {},
   "outputs": [],
   "source": [
    "state_2017 = pd.read_csv(\"state_coord_2017.csv\")"
   ]
  },
  {
   "cell_type": "code",
   "execution_count": 7,
   "metadata": {},
   "outputs": [],
   "source": [
    "state_2018 = pd.read_csv(\"state_coord_2018.csv\")"
   ]
  },
  {
   "cell_type": "code",
   "execution_count": 14,
   "metadata": {},
   "outputs": [],
   "source": [
    "crimes_df = pd.concat([state_2014,state_2015,state_2016,state_2017,state_2018])"
   ]
  },
  {
   "cell_type": "code",
   "execution_count": 15,
   "metadata": {},
   "outputs": [
    {
     "data": {
      "text/html": [
       "<div>\n",
       "<style scoped>\n",
       "    .dataframe tbody tr th:only-of-type {\n",
       "        vertical-align: middle;\n",
       "    }\n",
       "\n",
       "    .dataframe tbody tr th {\n",
       "        vertical-align: top;\n",
       "    }\n",
       "\n",
       "    .dataframe thead th {\n",
       "        text-align: right;\n",
       "    }\n",
       "</style>\n",
       "<table border=\"1\" class=\"dataframe\">\n",
       "  <thead>\n",
       "    <tr style=\"text-align: right;\">\n",
       "      <th></th>\n",
       "      <th>Unnamed: 0</th>\n",
       "      <th>ori</th>\n",
       "      <th>data_year</th>\n",
       "      <th>offense</th>\n",
       "      <th>state</th>\n",
       "      <th>cleared</th>\n",
       "      <th>actual</th>\n",
       "      <th>data_range</th>\n",
       "      <th>latitude</th>\n",
       "      <th>longitude</th>\n",
       "      <th>name</th>\n",
       "    </tr>\n",
       "  </thead>\n",
       "  <tbody>\n",
       "    <tr>\n",
       "      <td>0</td>\n",
       "      <td>0</td>\n",
       "      <td>NY0010000</td>\n",
       "      <td>2014</td>\n",
       "      <td>aggravated-assault</td>\n",
       "      <td>NY</td>\n",
       "      <td>7</td>\n",
       "      <td>8</td>\n",
       "      <td>NaN</td>\n",
       "      <td>43.299428</td>\n",
       "      <td>-74.217933</td>\n",
       "      <td>New York</td>\n",
       "    </tr>\n",
       "    <tr>\n",
       "      <td>1</td>\n",
       "      <td>1</td>\n",
       "      <td>NY0010100</td>\n",
       "      <td>2014</td>\n",
       "      <td>aggravated-assault</td>\n",
       "      <td>NY</td>\n",
       "      <td>244</td>\n",
       "      <td>497</td>\n",
       "      <td>NaN</td>\n",
       "      <td>43.299428</td>\n",
       "      <td>-74.217933</td>\n",
       "      <td>New York</td>\n",
       "    </tr>\n",
       "    <tr>\n",
       "      <td>2</td>\n",
       "      <td>2</td>\n",
       "      <td>NY0010200</td>\n",
       "      <td>2014</td>\n",
       "      <td>aggravated-assault</td>\n",
       "      <td>NY</td>\n",
       "      <td>23</td>\n",
       "      <td>26</td>\n",
       "      <td>NaN</td>\n",
       "      <td>43.299428</td>\n",
       "      <td>-74.217933</td>\n",
       "      <td>New York</td>\n",
       "    </tr>\n",
       "    <tr>\n",
       "      <td>3</td>\n",
       "      <td>3</td>\n",
       "      <td>NY0010300</td>\n",
       "      <td>2014</td>\n",
       "      <td>aggravated-assault</td>\n",
       "      <td>NY</td>\n",
       "      <td>6</td>\n",
       "      <td>8</td>\n",
       "      <td>NaN</td>\n",
       "      <td>43.299428</td>\n",
       "      <td>-74.217933</td>\n",
       "      <td>New York</td>\n",
       "    </tr>\n",
       "    <tr>\n",
       "      <td>4</td>\n",
       "      <td>4</td>\n",
       "      <td>NY0012000</td>\n",
       "      <td>2014</td>\n",
       "      <td>aggravated-assault</td>\n",
       "      <td>NY</td>\n",
       "      <td>3</td>\n",
       "      <td>3</td>\n",
       "      <td>NaN</td>\n",
       "      <td>43.299428</td>\n",
       "      <td>-74.217933</td>\n",
       "      <td>New York</td>\n",
       "    </tr>\n",
       "    <tr>\n",
       "      <td>...</td>\n",
       "      <td>...</td>\n",
       "      <td>...</td>\n",
       "      <td>...</td>\n",
       "      <td>...</td>\n",
       "      <td>...</td>\n",
       "      <td>...</td>\n",
       "      <td>...</td>\n",
       "      <td>...</td>\n",
       "      <td>...</td>\n",
       "      <td>...</td>\n",
       "      <td>...</td>\n",
       "    </tr>\n",
       "    <tr>\n",
       "      <td>3395</td>\n",
       "      <td>3395</td>\n",
       "      <td>VT0040300</td>\n",
       "      <td>2018</td>\n",
       "      <td>property-crime</td>\n",
       "      <td>VT</td>\n",
       "      <td>171</td>\n",
       "      <td>573</td>\n",
       "      <td>NaN</td>\n",
       "      <td>44.558803</td>\n",
       "      <td>-72.577841</td>\n",
       "      <td>Vermont</td>\n",
       "    </tr>\n",
       "    <tr>\n",
       "      <td>3396</td>\n",
       "      <td>3396</td>\n",
       "      <td>VT0040400</td>\n",
       "      <td>2018</td>\n",
       "      <td>property-crime</td>\n",
       "      <td>VT</td>\n",
       "      <td>19</td>\n",
       "      <td>122</td>\n",
       "      <td>NaN</td>\n",
       "      <td>44.558803</td>\n",
       "      <td>-72.577841</td>\n",
       "      <td>Vermont</td>\n",
       "    </tr>\n",
       "    <tr>\n",
       "      <td>3397</td>\n",
       "      <td>3397</td>\n",
       "      <td>VT0040500</td>\n",
       "      <td>2018</td>\n",
       "      <td>property-crime</td>\n",
       "      <td>VT</td>\n",
       "      <td>37</td>\n",
       "      <td>207</td>\n",
       "      <td>NaN</td>\n",
       "      <td>44.558803</td>\n",
       "      <td>-72.577841</td>\n",
       "      <td>Vermont</td>\n",
       "    </tr>\n",
       "    <tr>\n",
       "      <td>3398</td>\n",
       "      <td>3398</td>\n",
       "      <td>VT0040600</td>\n",
       "      <td>2018</td>\n",
       "      <td>property-crime</td>\n",
       "      <td>VT</td>\n",
       "      <td>23</td>\n",
       "      <td>107</td>\n",
       "      <td>NaN</td>\n",
       "      <td>44.558803</td>\n",
       "      <td>-72.577841</td>\n",
       "      <td>Vermont</td>\n",
       "    </tr>\n",
       "    <tr>\n",
       "      <td>3399</td>\n",
       "      <td>3399</td>\n",
       "      <td>VT0040700</td>\n",
       "      <td>2018</td>\n",
       "      <td>property-crime</td>\n",
       "      <td>VT</td>\n",
       "      <td>13</td>\n",
       "      <td>51</td>\n",
       "      <td>NaN</td>\n",
       "      <td>44.558803</td>\n",
       "      <td>-72.577841</td>\n",
       "      <td>Vermont</td>\n",
       "    </tr>\n",
       "  </tbody>\n",
       "</table>\n",
       "<p>17000 rows × 11 columns</p>\n",
       "</div>"
      ],
      "text/plain": [
       "      Unnamed: 0        ori  data_year             offense state  cleared  \\\n",
       "0              0  NY0010000       2014  aggravated-assault    NY        7   \n",
       "1              1  NY0010100       2014  aggravated-assault    NY      244   \n",
       "2              2  NY0010200       2014  aggravated-assault    NY       23   \n",
       "3              3  NY0010300       2014  aggravated-assault    NY        6   \n",
       "4              4  NY0012000       2014  aggravated-assault    NY        3   \n",
       "...          ...        ...        ...                 ...   ...      ...   \n",
       "3395        3395  VT0040300       2018      property-crime    VT      171   \n",
       "3396        3396  VT0040400       2018      property-crime    VT       19   \n",
       "3397        3397  VT0040500       2018      property-crime    VT       37   \n",
       "3398        3398  VT0040600       2018      property-crime    VT       23   \n",
       "3399        3399  VT0040700       2018      property-crime    VT       13   \n",
       "\n",
       "      actual  data_range   latitude  longitude      name  \n",
       "0          8         NaN  43.299428 -74.217933  New York  \n",
       "1        497         NaN  43.299428 -74.217933  New York  \n",
       "2         26         NaN  43.299428 -74.217933  New York  \n",
       "3          8         NaN  43.299428 -74.217933  New York  \n",
       "4          3         NaN  43.299428 -74.217933  New York  \n",
       "...      ...         ...        ...        ...       ...  \n",
       "3395     573         NaN  44.558803 -72.577841   Vermont  \n",
       "3396     122         NaN  44.558803 -72.577841   Vermont  \n",
       "3397     207         NaN  44.558803 -72.577841   Vermont  \n",
       "3398     107         NaN  44.558803 -72.577841   Vermont  \n",
       "3399      51         NaN  44.558803 -72.577841   Vermont  \n",
       "\n",
       "[17000 rows x 11 columns]"
      ]
     },
     "execution_count": 15,
     "metadata": {},
     "output_type": "execute_result"
    }
   ],
   "source": [
    "crimes_df"
   ]
  },
  {
   "cell_type": "code",
   "execution_count": 30,
   "metadata": {},
   "outputs": [
    {
     "data": {
      "text/plain": [
       "Index(['Unnamed: 0', 'ori', 'data_year', 'offense', 'state', 'cleared',\n",
       "       'actual', 'data_range', 'latitude', 'longitude', 'name'],\n",
       "      dtype='object')"
      ]
     },
     "execution_count": 30,
     "metadata": {},
     "output_type": "execute_result"
    }
   ],
   "source": [
    "crimes_df.columns"
   ]
  },
  {
   "cell_type": "code",
   "execution_count": 33,
   "metadata": {},
   "outputs": [],
   "source": [
    "crime_df = crimes_df.drop(['Unnamed: 0','data_range'],axis=1)"
   ]
  },
  {
   "cell_type": "code",
   "execution_count": 36,
   "metadata": {},
   "outputs": [
    {
     "data": {
      "text/plain": [
       "ori          0\n",
       "data_year    0\n",
       "offense      0\n",
       "state        0\n",
       "cleared      0\n",
       "actual       0\n",
       "latitude     0\n",
       "longitude    0\n",
       "name         0\n",
       "dtype: int64"
      ]
     },
     "execution_count": 36,
     "metadata": {},
     "output_type": "execute_result"
    }
   ],
   "source": [
    "crime_df.isna().sum()"
   ]
  },
  {
   "cell_type": "code",
   "execution_count": null,
   "metadata": {},
   "outputs": [],
   "source": []
  }
 ],
 "metadata": {
  "kernelspec": {
   "display_name": "Python 3",
   "language": "python",
   "name": "python3"
  },
  "language_info": {
   "codemirror_mode": {
    "name": "ipython",
    "version": 3
   },
   "file_extension": ".py",
   "mimetype": "text/x-python",
   "name": "python",
   "nbconvert_exporter": "python",
   "pygments_lexer": "ipython3",
   "version": "3.7.4"
  }
 },
 "nbformat": 4,
 "nbformat_minor": 2
}
